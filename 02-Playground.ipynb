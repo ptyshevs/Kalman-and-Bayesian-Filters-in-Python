{
 "cells": [
  {
   "cell_type": "code",
   "execution_count": 1,
   "metadata": {},
   "outputs": [],
   "source": [
    "import numpy as np\n",
    "import matplotlib.pyplot as plt\n",
    "from matplotlib.lines import Line2D"
   ]
  },
  {
   "cell_type": "markdown",
   "metadata": {},
   "source": [
    "## Goal\n",
    "Build a simulation of robot moving on 2D grid. Apply discrete Bayesian filter to filter it's position and draw fancy plots."
   ]
  },
  {
   "cell_type": "code",
   "execution_count": 2,
   "metadata": {},
   "outputs": [],
   "source": [
    "from ipywidgets import interact, Button\n",
    "import ipywidgets as widgets\n",
    "from IPython.display import clear_output"
   ]
  },
  {
   "cell_type": "code",
   "execution_count": 3,
   "metadata": {},
   "outputs": [],
   "source": [
    "plot_out = widgets.Output()\n",
    "log_out = widgets.Output()"
   ]
  },
  {
   "cell_type": "code",
   "execution_count": 4,
   "metadata": {},
   "outputs": [],
   "source": [
    "class Robot:\n",
    "    def __init__(self, x=0, y=0, xmax=10, ymax=10, error_rate=0.1):\n",
    "        self.x = x\n",
    "        self.y = y\n",
    "        self.xmax = xmax\n",
    "        self.ymax = ymax\n",
    "        self.error_rate = error_rate\n",
    "    \n",
    "    def move(self, dx=0, dy=0):\n",
    "        self.x += dx\n",
    "        self.y += dy\n",
    "        self.x, self.y = self._constraint(self.x, self.y)\n",
    "    \n",
    "    def _constraint(self, x=None, y=None):\n",
    "        if x < 0:\n",
    "            x = self.xmax + x\n",
    "        elif x >= self.xmax:\n",
    "            x = 0\n",
    "        if y < 0:\n",
    "            y = self.ymax + y\n",
    "        elif y >= self.ymax:\n",
    "            y = 0\n",
    "        return x, y\n",
    "    \n",
    "    def measure(self):\n",
    "        \"\"\" Measurement of robot position with error \"\"\"\n",
    "        x, y = self.x, self.y\n",
    "        if np.random.rand() < self.error_rate:\n",
    "            # Error occurred\n",
    "            if np.random.rand() < .5:\n",
    "                # Error in x\n",
    "                if np.random.rand() < .5:\n",
    "                    x += 1\n",
    "                else:\n",
    "                    x -= 1\n",
    "            else:\n",
    "                # Error in y\n",
    "                if np.random.rand() < .5:\n",
    "                    y += 1\n",
    "                else:\n",
    "                    y -= 1\n",
    "        return self._constraint(x, y)\n",
    "                \n",
    "                    \n",
    "    \n",
    "    @property\n",
    "    def place(self):\n",
    "        return self.x, self.y"
   ]
  },
  {
   "cell_type": "code",
   "execution_count": 137,
   "metadata": {},
   "outputs": [
    {
     "data": {
      "text/plain": [
       "array([0. , 0.1, 0.2, 0.3, 0.4, 0.5, 0.6, 0.7, 0.8, 0.9, 1. , 1.1, 1.2,\n",
       "       1.3, 1.4, 1.5, 1.6, 1.7, 1.8, 1.9, 2. , 2.1, 2.2, 2.3, 2.4, 2.5,\n",
       "       2.6, 2.7, 2.8, 2.9, 3. , 3.1, 3.2, 3.3, 3.4, 3.5, 3.6, 3.7, 3.8,\n",
       "       3.9, 4. , 4.1, 4.2, 4.3, 4.4, 4.5, 4.6, 4.7, 4.8, 4.9, 5. , 5.1,\n",
       "       5.2, 5.3, 5.4, 5.5, 5.6, 5.7, 5.8, 5.9, 6. , 6.1, 6.2, 6.3, 6.4,\n",
       "       6.5, 6.6, 6.7, 6.8, 6.9, 7. , 7.1, 7.2, 7.3, 7.4, 7.5, 7.6, 7.7,\n",
       "       7.8, 7.9, 8. , 8.1, 8.2, 8.3, 8.4, 8.5, 8.6, 8.7, 8.8, 8.9, 9. ])"
      ]
     },
     "execution_count": 137,
     "metadata": {},
     "output_type": "execute_result"
    }
   ],
   "source": [
    "np.linspace(0, 9, 91)"
   ]
  },
  {
   "cell_type": "code",
   "execution_count": 148,
   "metadata": {},
   "outputs": [],
   "source": [
    "w, h = 10, 10\n",
    "x = np.linspace(0, w - 1, num=91)\n",
    "y = np.linspace(0, h - 1, num=91)\n",
    "xx, yy = np.meshgrid(x, y)\n",
    "xx2, yy2 = np.meshgrid(np.arange(w), np.arange(h))\n",
    "rob = Robot(x=5, y=5, xmax=w, ymax=h)\n",
    "filt = Filter()\n",
    "filt.belief[rob.x, rob.y] = 1\n",
    "filt.belief /= filt.belief.sum()\n",
    "\n",
    "def show_pos():\n",
    "    with log_out:\n",
    "        print(rob.place)\n",
    "\n",
    "def show_plot(prediction):\n",
    "    x_true, y_true = rob.place\n",
    "    x_measured, y_measured = rob.measure()\n",
    "    \n",
    "    zz = (yy==y_true) & (xx == x_true)\n",
    "    zz2 = (yy==y_measured) & (xx==x_measured)\n",
    "    with plot_out:\n",
    "        clear_output()\n",
    "        fig, ax = plt.subplots()\n",
    "        ax.contour(xx, yy, zz, levels=1, cmap=plt.cm.Blues_r, alpha=.75)\n",
    "        ax.contour(xx, yy, zz2, levels=1, cmap=plt.cm.Reds_r, alpha=.75)\n",
    "        ax.contourf(xx2, yy2, prediction.T, alpha=.75)\n",
    "        ax.legend([Line2D([0], [0], color=\"blue\", lw=3),\n",
    "                   Line2D([0], [0], color=\"red\", lw=3)], ['True position', \"Measured position\"])\n",
    "        plt.show()\n",
    "        filt.update(x_measured, y_measured)\n",
    "\n",
    "def left_clicked(_):\n",
    "    rob.move(dx=-1)\n",
    "    show_pos()\n",
    "    show_plot(filt.predict(dx=1)) \n",
    "\n",
    "def right_clicked(_):\n",
    "    rob.move(dx=1)\n",
    "    show_pos()\n",
    "    show_plot(filt.predict(dx=-1)) \n",
    "    \n",
    "\n",
    "def down_clicked(_):\n",
    "    rob.move(dy=-1)\n",
    "    show_pos()\n",
    "    show_plot(filt.predict(dy=1)) \n",
    "\n",
    "def up_clicked(_):\n",
    "    rob.move(dy=1)\n",
    "    show_pos()\n",
    "    show_plot(filt.predict(dy=-1)) \n",
    "    "
   ]
  },
  {
   "cell_type": "code",
   "execution_count": 152,
   "metadata": {},
   "outputs": [
    {
     "data": {
      "application/vnd.jupyter.widget-view+json": {
       "model_id": "0cd593817734464981138ea3bf244e58",
       "version_major": 2,
       "version_minor": 0
      },
      "text/plain": [
       "VBox(children=(HBox(children=(Button(description='Left', style=ButtonStyle()), Button(description='Right', sty…"
      ]
     },
     "metadata": {},
     "output_type": "display_data"
    }
   ],
   "source": [
    "lb = widgets.Button(description=\"Left\")\n",
    "lb.on_click(left_clicked)\n",
    "\n",
    "rb = widgets.Button(description=\"Right\")\n",
    "rb.on_click(right_clicked)\n",
    "\n",
    "ub = widgets.Button(description=\"Up\")\n",
    "ub.on_click(up_clicked)\n",
    "\n",
    "db = widgets.Button(description=\"Down\")\n",
    "db.on_click(down_clicked)\n",
    "out = widgets.Output()\n",
    "\n",
    "first_row = widgets.HBox([lb, rb])\n",
    "second_row = widgets.HBox([ub, db])\n",
    "with log_out:\n",
    "    clear_output()\n",
    "widgets.VBox([first_row, second_row, plot_out, log_out])"
   ]
  },
  {
   "cell_type": "code",
   "execution_count": 119,
   "metadata": {},
   "outputs": [],
   "source": [
    "from scipy.signal import convolve2d"
   ]
  },
  {
   "cell_type": "code",
   "execution_count": 151,
   "metadata": {},
   "outputs": [],
   "source": [
    "class Filter:\n",
    "    def __init__(self):\n",
    "        self.belief = np.ones((h, w)) / (h * w)\n",
    "        self.gauss_kernel = np.array([[0, 0.1, 0],\n",
    "                                      [.1, .6, .1],\n",
    "                                      [0, .1, 0]])\n",
    "    \n",
    "    def predict(self, dx=0, dy=0, kernel=None):\n",
    "        rolled = np.roll(np.roll(self.belief, dx, axis=1), -dy, axis=0)\n",
    "        return convolve2d(rolled, self.gauss_kernel, mode='same', boundary='wrap')\n",
    "    \n",
    "    def likelihood(self, x, y, scale=3):\n",
    "        L = self.belief[:, :]\n",
    "        L[x, y] += .6\n",
    "        L[x-1:x+1, y-1:y+1] += 0.1\n",
    "        return L / L.sum()\n",
    "    \n",
    "    def update(self, x, y):\n",
    "        P = self.belief * self.likelihood(x, y)\n",
    "        self.belief = P / P.sum()\n",
    "    \n",
    "    def most_likely_position(self):\n",
    "        return np.argmax(self.belief, axis=0).max(), np.argmax(self.belief, axis=1).max()"
   ]
  },
  {
   "cell_type": "code",
   "execution_count": 94,
   "metadata": {},
   "outputs": [
    {
     "name": "stdout",
     "output_type": "stream",
     "text": [
      "Rob place = (6, 5) | measured = (6, 5)\n",
      "Rob place = (7, 5) | measured = (7, 5)\n",
      "Rob place = (8, 5) | measured = (8, 5)\n",
      "Rob place = (9, 5) | measured = (9, 5)\n",
      "Rob place = (0, 5) | measured = (0, 5)\n",
      "Rob place = (1, 5) | measured = (1, 5)\n",
      "Rob place = (2, 5) | measured = (2, 5)\n",
      "Rob place = (3, 5) | measured = (3, 5)\n",
      "Rob place = (4, 5) | measured = (4, 5)\n",
      "Rob place = (5, 5) | measured = (5, 5)\n",
      "Rob place = (6, 5) | measured = (6, 6)\n",
      "Rob place = (7, 5) | measured = (7, 5)\n",
      "Rob place = (8, 5) | measured = (8, 5)\n",
      "Rob place = (9, 5) | measured = (9, 5)\n",
      "Rob place = (0, 5) | measured = (0, 5)\n",
      "Rob place = (1, 5) | measured = (2, 5)\n",
      "Rob place = (2, 5) | measured = (2, 5)\n",
      "Rob place = (3, 5) | measured = (3, 5)\n",
      "Rob place = (4, 5) | measured = (4, 5)\n",
      "Rob place = (5, 5) | measured = (5, 5)\n",
      "Rob place = (6, 5) | measured = (6, 5)\n",
      "Rob place = (7, 5) | measured = (7, 4)\n",
      "Rob place = (8, 5) | measured = (8, 5)\n"
     ]
    }
   ],
   "source": [
    "f = Filter()\n",
    "rob = Robot(5, 5)\n",
    "priors = []\n",
    "for i in range(23):\n",
    "    rob.move(1, 0)\n",
    "    predictor = f.predict(1,0, kernel=np.array([[.1, .8, .1]]))\n",
    "    priors.append(predictor)\n",
    "    measure = rob.measure()\n",
    "    print(f\"Rob place = {rob.place} | measured = {measure}\")\n",
    "    f.update(*measure)\n"
   ]
  },
  {
   "cell_type": "code",
   "execution_count": 95,
   "metadata": {},
   "outputs": [],
   "source": [
    "from ipywidgets import IntSlider"
   ]
  },
  {
   "cell_type": "code",
   "execution_count": 96,
   "metadata": {},
   "outputs": [],
   "source": [
    "def simulate(time_step):\n",
    "    plt.contourf(xx2, yy2, priors[time_step])\n",
    "    plt.show()\n",
    "#     _, ax = plt.subplots(ncols=3, figsize=(16, 10))\n",
    "#     ax[0].contourf(xx2, yy2, prior);\n",
    "#     ax[1].contourf(xx2, yy2, predictor)\n",
    "#     ax[2].contourf(xx2, yy2, f.likelihood(5, 5))"
   ]
  },
  {
   "cell_type": "code",
   "execution_count": 97,
   "metadata": {},
   "outputs": [
    {
     "data": {
      "application/vnd.jupyter.widget-view+json": {
       "model_id": "79926d23574345e2a6021b5f1599c441",
       "version_major": 2,
       "version_minor": 0
      },
      "text/plain": [
       "interactive(children=(IntSlider(value=0, description='time_step', max=22), Output()), _dom_classes=('widget-in…"
      ]
     },
     "metadata": {},
     "output_type": "display_data"
    },
    {
     "data": {
      "text/plain": [
       "<function __main__.simulate(time_step)>"
      ]
     },
     "execution_count": 97,
     "metadata": {},
     "output_type": "execute_result"
    }
   ],
   "source": [
    "interact(simulate, time_step=IntSlider(value=0, max=len(priors)-1));"
   ]
  },
  {
   "cell_type": "code",
   "execution_count": null,
   "metadata": {},
   "outputs": [],
   "source": []
  },
  {
   "cell_type": "code",
   "execution_count": null,
   "metadata": {},
   "outputs": [],
   "source": []
  },
  {
   "cell_type": "code",
   "execution_count": null,
   "metadata": {},
   "outputs": [],
   "source": []
  },
  {
   "cell_type": "code",
   "execution_count": null,
   "metadata": {},
   "outputs": [],
   "source": []
  },
  {
   "cell_type": "code",
   "execution_count": null,
   "metadata": {},
   "outputs": [],
   "source": []
  },
  {
   "cell_type": "code",
   "execution_count": null,
   "metadata": {},
   "outputs": [],
   "source": []
  }
 ],
 "metadata": {
  "kernelspec": {
   "display_name": "Python 3",
   "language": "python",
   "name": "python3"
  },
  "language_info": {
   "codemirror_mode": {
    "name": "ipython",
    "version": 3
   },
   "file_extension": ".py",
   "mimetype": "text/x-python",
   "name": "python",
   "nbconvert_exporter": "python",
   "pygments_lexer": "ipython3",
   "version": "3.6.8"
  }
 },
 "nbformat": 4,
 "nbformat_minor": 2
}
