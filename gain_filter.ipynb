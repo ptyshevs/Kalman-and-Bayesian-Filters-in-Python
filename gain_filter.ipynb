{
 "cells": [
  {
   "cell_type": "code",
   "execution_count": 1,
   "metadata": {},
   "outputs": [],
   "source": [
    "import numpy as np"
   ]
  },
  {
   "cell_type": "code",
   "execution_count": 2,
   "metadata": {},
   "outputs": [],
   "source": [
    "ground_truth = lambda t: 160 + t"
   ]
  },
  {
   "cell_type": "code",
   "execution_count": 3,
   "metadata": {},
   "outputs": [],
   "source": [
    "observe = lambda t: ground_truth(t) + np.random.normal(0, 4)"
   ]
  },
  {
   "cell_type": "code",
   "execution_count": 36,
   "metadata": {},
   "outputs": [],
   "source": [
    "initial_estimate = 70\n",
    "gain_rate = 2 # this is our guess of the rate of change in gt\n",
    "time_step = 1\n",
    "n_iter = 50\n",
    "residual_scale = 0.5"
   ]
  },
  {
   "cell_type": "code",
   "execution_count": 37,
   "metadata": {},
   "outputs": [
    {
     "name": "stdout",
     "output_type": "stream",
     "text": [
      "t=  1|gt=161|z=159.671384|pred=115.836\n",
      "t=  2|gt=162|z=160.059700|pred=138.948\n",
      "t=  3|gt=163|z=164.236031|pred=152.592\n",
      "t=  4|gt=164|z=162.495621|pred=158.544\n",
      "t=  5|gt=165|z=166.068310|pred=163.306\n",
      "t=  6|gt=166|z=168.163730|pred=166.735\n",
      "t=  7|gt=167|z=168.718254|pred=168.727\n",
      "t=  8|gt=168|z=169.966434|pred=170.347\n",
      "t=  9|gt=169|z=170.367592|pred=171.357\n",
      "t= 10|gt=170|z=170.996667|pred=172.177\n",
      "t= 11|gt=171|z=171.298210|pred=172.738\n",
      "t= 12|gt=172|z=167.185598|pred=170.962\n",
      "t= 13|gt=173|z=168.768454|pred=170.865\n",
      "t= 14|gt=174|z=172.778000|pred=172.822\n",
      "t= 15|gt=175|z=173.256187|pred=174.039\n",
      "t= 16|gt=176|z=173.445508|pred=174.742\n",
      "t= 17|gt=177|z=180.301979|pred=178.522\n",
      "t= 18|gt=178|z=176.468789|pred=178.495\n",
      "t= 19|gt=179|z=177.995734|pred=179.246\n",
      "t= 20|gt=180|z=182.820592|pred=182.033\n",
      "t= 21|gt=181|z=182.279782|pred=183.156\n",
      "t= 22|gt=182|z=182.121155|pred=183.639\n",
      "t= 23|gt=183|z=182.699817|pred=184.169\n",
      "t= 24|gt=184|z=182.597068|pred=184.383\n",
      "t= 25|gt=185|z=184.419220|pred=185.401\n",
      "t= 26|gt=186|z=186.914062|pred=187.158\n",
      "t= 27|gt=187|z=186.787882|pred=187.973\n",
      "t= 28|gt=188|z=189.819588|pred=189.896\n",
      "t= 29|gt=189|z=190.420144|pred=191.158\n",
      "t= 30|gt=190|z=186.913618|pred=190.036\n",
      "t= 31|gt=191|z=191.100060|pred=191.568\n",
      "t= 32|gt=192|z=193.640484|pred=193.604\n",
      "t= 33|gt=193|z=191.891644|pred=193.748\n",
      "t= 34|gt=194|z=195.168388|pred=195.458\n",
      "t= 35|gt=195|z=194.679657|pred=196.069\n",
      "t= 36|gt=196|z=194.024225|pred=196.047\n",
      "t= 37|gt=197|z=197.071352|pred=197.559\n",
      "t= 38|gt=198|z=197.268893|pred=198.414\n",
      "t= 39|gt=199|z=200.458006|pred=200.436\n",
      "t= 40|gt=200|z=197.570916|pred=200.003\n",
      "t= 41|gt=201|z=201.845724|pred=201.925\n",
      "t= 42|gt=202|z=198.758271|pred=201.341\n",
      "t= 43|gt=203|z=205.381797|pred=204.362\n",
      "t= 44|gt=204|z=201.967661|pred=204.165\n",
      "t= 45|gt=205|z=203.595087|pred=204.880\n",
      "t= 46|gt=206|z=206.089173|pred=206.485\n",
      "t= 47|gt=207|z=210.087528|pred=209.286\n",
      "t= 48|gt=208|z=204.936663|pred=208.111\n",
      "t= 49|gt=209|z=207.571988|pred=208.842\n",
      "t= 50|gt=210|z=211.835632|pred=211.339\n"
     ]
    }
   ],
   "source": [
    "# g in g-h filter (keeping h constant in gain_rate)\n",
    "estimate = initial_estimate\n",
    "for t in range(1, n_iter + 1):\n",
    "    prediction = estimate + gain_rate * time_step\n",
    "    observation = observe(t)\n",
    "    estimate = prediction + residual_scale * (observation - prediction)\n",
    "    print(f\"t={t:3d}|gt={ground_truth(t)}|z={observation:3f}|pred={estimate:03.3f}\")"
   ]
  },
  {
   "cell_type": "code",
   "execution_count": 41,
   "metadata": {},
   "outputs": [
    {
     "name": "stdout",
     "output_type": "stream",
     "text": [
      "t=  1|gt=161|z=160.764391|pred=125.382|gain_rate=41.229\n",
      "t=  2|gt=162|z=161.367710|pred=163.990|gain_rate=39.656\n",
      "t=  3|gt=163|z=161.692700|pred=182.669|gain_rate=27.070\n",
      "t=  4|gt=164|z=166.455579|pred=188.098|gain_rate=14.085\n",
      "t=  5|gt=165|z=164.397755|pred=183.290|gain_rate=2.750\n",
      "t=  6|gt=166|z=167.828756|pred=176.934|gain_rate=-2.714\n",
      "t=  7|gt=167|z=165.295267|pred=169.758|gain_rate=-5.391\n",
      "t=  8|gt=168|z=165.805618|pred=165.086|gain_rate=-4.960\n",
      "t=  9|gt=169|z=171.276049|pred=165.701|gain_rate=-1.615\n",
      "t= 10|gt=170|z=172.832149|pred=168.459|gain_rate=1.009\n",
      "t= 11|gt=171|z=175.788356|pred=172.628|gain_rate=2.905\n",
      "t= 12|gt=172|z=172.120396|pred=173.827|gain_rate=1.881\n",
      "t= 13|gt=173|z=172.484745|pred=174.096|gain_rate=0.914\n",
      "t= 14|gt=174|z=173.006939|pred=174.009|gain_rate=0.313\n",
      "t= 15|gt=175|z=174.196077|pred=174.259|gain_rate=0.275\n",
      "t= 16|gt=176|z=176.335215|pred=175.435|gain_rate=0.816\n",
      "t= 17|gt=177|z=176.145011|pred=176.198|gain_rate=0.784\n",
      "t= 18|gt=178|z=174.547017|pred=175.764|gain_rate=0.054\n",
      "t= 19|gt=179|z=177.863050|pred=176.841|gain_rate=0.667\n",
      "t= 20|gt=180|z=177.429765|pred=177.469|gain_rate=0.644\n",
      "t= 21|gt=181|z=179.490406|pred=178.801|gain_rate=1.057\n",
      "t= 22|gt=182|z=183.211939|pred=181.535|gain_rate=2.063\n",
      "t= 23|gt=183|z=184.349539|pred=183.974|gain_rate=2.288\n",
      "t= 24|gt=184|z=184.110903|pred=185.187|gain_rate=1.643\n",
      "t= 25|gt=185|z=186.162490|pred=186.496|gain_rate=1.443\n",
      "t= 26|gt=186|z=185.819186|pred=186.879|gain_rate=0.807\n",
      "t= 27|gt=187|z=188.315460|pred=188.001|gain_rate=0.996\n",
      "t= 28|gt=188|z=185.833656|pred=187.415|gain_rate=0.047\n",
      "t= 29|gt=189|z=190.884394|pred=189.173|gain_rate=1.074\n",
      "t= 30|gt=190|z=188.919335|pred=189.583|gain_rate=0.675\n",
      "t= 31|gt=191|z=189.596456|pred=189.927|gain_rate=0.477\n",
      "t= 32|gt=192|z=189.749903|pred=190.077|gain_rate=0.280\n",
      "t= 33|gt=193|z=193.558141|pred=191.958|gain_rate=1.241\n",
      "t= 34|gt=194|z=194.541843|pred=193.870|gain_rate=1.644\n",
      "t= 35|gt=195|z=196.952571|pred=196.233|gain_rate=2.075\n",
      "t= 36|gt=196|z=197.989472|pred=198.149|gain_rate=1.980\n",
      "t= 37|gt=197|z=196.447366|pred=198.288|gain_rate=0.875\n",
      "t= 38|gt=198|z=198.906831|pred=199.035|gain_rate=0.798\n",
      "t= 39|gt=199|z=200.669124|pred=200.251|gain_rate=1.049\n",
      "t= 40|gt=200|z=199.711162|pred=200.506|gain_rate=0.572\n",
      "t= 41|gt=201|z=200.383733|pred=200.731|gain_rate=0.364\n",
      "t= 42|gt=202|z=200.014250|pred=200.555|gain_rate=0.040\n",
      "t= 43|gt=203|z=204.305678|pred=202.450|gain_rate=1.153\n",
      "t= 44|gt=204|z=206.240375|pred=204.922|gain_rate=1.944\n",
      "t= 45|gt=205|z=204.003884|pred=205.435|gain_rate=1.086\n",
      "t= 46|gt=206|z=201.099750|pred=203.810|gain_rate=-0.541\n",
      "t= 47|gt=207|z=208.701258|pred=205.985|gain_rate=1.089\n",
      "t= 48|gt=208|z=211.727538|pred=209.401|gain_rate=2.485\n",
      "t= 49|gt=209|z=206.533099|pred=209.209|gain_rate=0.879\n",
      "t= 50|gt=210|z=213.426457|pred=211.757|gain_rate=1.880\n"
     ]
    }
   ],
   "source": [
    "# full g-h filter\n",
    "gain_rate = 20 # here, gain rate will be more accurately estimated over time\n",
    "gain_scale = 0.3 # scale with which to consider new residual into account\n",
    "estimate = initial_estimate\n",
    "for t in range(1, n_iter + 1):\n",
    "    prediction = estimate + gain_rate * time_step\n",
    "    observation = observe(t)\n",
    "    residual = observation - prediction\n",
    "    estimate = prediction + residual_scale * residual\n",
    "    gain_rate = gain_rate + gain_scale * residual / time_step\n",
    "    print(f\"t={t:3d}|gt={ground_truth(t)}|z={observation:3f}|pred={estimate:03.3f}|gain_rate={gain_rate:03.3f}\")"
   ]
  },
  {
   "cell_type": "code",
   "execution_count": null,
   "metadata": {},
   "outputs": [],
   "source": []
  }
 ],
 "metadata": {
  "kernelspec": {
   "display_name": "Python 3",
   "language": "python",
   "name": "python3"
  },
  "language_info": {
   "codemirror_mode": {
    "name": "ipython",
    "version": 3
   },
   "file_extension": ".py",
   "mimetype": "text/x-python",
   "name": "python",
   "nbconvert_exporter": "python",
   "pygments_lexer": "ipython3",
   "version": "3.6.8"
  }
 },
 "nbformat": 4,
 "nbformat_minor": 2
}
